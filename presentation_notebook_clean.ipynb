{
 "cells": [
  {
   "cell_type": "code",
   "execution_count": null,
   "metadata": {},
   "outputs": [],
   "source": [
    "pi = RR.pi()"
   ]
  },
  {
   "cell_type": "code",
   "execution_count": null,
   "metadata": {},
   "outputs": [],
   "source": [
    "def scale(a, v):\n",
    "    return vector([a * x for x in v])"
   ]
  },
  {
   "cell_type": "code",
   "execution_count": null,
   "metadata": {
    "scrolled": false
   },
   "outputs": [],
   "source": [
    "X(u, v) = (sin(v) * cos(u), sin(v) * sin(u), cos(v))\n",
    "parametric_plot3d(X(u, v), (u, -pi, pi), (v, 0, pi), frame=False,axes=False,color='purple',opacity=1)"
   ]
  },
  {
   "cell_type": "code",
   "execution_count": null,
   "metadata": {},
   "outputs": [],
   "source": [
    "a = 5\n",
    "b = 1\n",
    "T2(theta, phi) = ((a + b * cos(theta)) * cos(phi), (a + b * cos(theta)) * sin(phi), b * sin(theta))\n",
    "parametric_plot3d(T2(theta, phi), (theta, 0, 2 * pi), (phi, 0, 2 * pi), frame=False,color='purple',opacity=1)"
   ]
  },
  {
   "cell_type": "code",
   "execution_count": null,
   "metadata": {},
   "outputs": [],
   "source": [
    "torus_plot = parametric_plot3d(T2(theta, phi), (theta, 0, 2 * pi), (phi, 0, 2 * pi), frame=False,color='purple',opacity=0.5)\n",
    "curve_plot = parametric_plot3d(T2(theta, (2/3) * theta), (theta, 0, 1000), thickness=3, plot_points=10000)\n",
    "show(torus_plot + curve_plot)\n",
    "# show(curve_plot)"
   ]
  },
  {
   "cell_type": "code",
   "execution_count": null,
   "metadata": {},
   "outputs": [],
   "source": [
    "def compute_FFF(X_u, X_v):\n",
    "    return (X_u.inner_product(X_u), X_u.inner_product(X_v), X_v.inner_product(X_v))"
   ]
  },
  {
   "cell_type": "code",
   "execution_count": null,
   "metadata": {},
   "outputs": [],
   "source": [
    "def compute_christoffel(X_1, X_2, u, v, E_, F_, G_):\n",
    "    E_u = diff(E_, X_1).subs(X_1 == u, X_2 == v)\n",
    "    E_v = diff(E_, X_2).subs(X_1 == u, X_2 == v)\n",
    "    F_u = diff(F_, X_1).subs(X_1 == u, X_2 == v)\n",
    "    F_v = diff(F_, X_2).subs(X_1 == u, X_2 == v)\n",
    "    G_u = diff(G_, X_1).subs(X_1 == u, X_2 == v)\n",
    "    G_v = diff(G_, X_2).subs(X_1 == u, X_2 == v)\n",
    "\n",
    "    E = E_.subs(X_1 == u, X_2 == v)\n",
    "    F = F_.subs(X_1 == u, X_2 == v)\n",
    "    G = G_.subs(X_1 == u, X_2 == v)\n",
    "    \n",
    "    C111 = var('C111')\n",
    "    C121 = var('C121')\n",
    "    C221 = var('C221')\n",
    "    C112 = var('C112')\n",
    "    C122 = var('C122')\n",
    "    C222 = var('C222')\n",
    "    \n",
    "    eqn_11 = C111 * E + C112 * F == 1/2 * E_u\n",
    "    eqn_12 = C111 * F + C112 * G == F_u - 1/2 * E_v\n",
    "    \n",
    "    eqn_21 = C121 * E + C122 * F == 1/2 * E_v\n",
    "    eqn_22 = C121 * F + C122 * G == 1/2 * G_u\n",
    "    \n",
    "    eqn_31 = C221 * E + C222 * F == F_v - 1/2 * G_u\n",
    "    eqn_32 = C221 * F + C222 * G == 1/2 * G_v\n",
    "    \n",
    "    C_sol_1 = solve([eqn_11, eqn_12], C111, C112)\n",
    "    C_sol_2 = solve([eqn_21, eqn_22], C121, C122)\n",
    "    C_sol_3 = solve([eqn_31, eqn_32], C221, C222)\n",
    "    \n",
    "    C111 = C111.subs(C_sol_1[0])\n",
    "    C112 = C112.subs(C_sol_1[0])\n",
    "    C121 = C121.subs(C_sol_2[0])\n",
    "    C122 = C122.subs(C_sol_2[0])\n",
    "    C221 = C221.subs(C_sol_3[0])\n",
    "    C222 = C222.subs(C_sol_3[0])\n",
    "\n",
    "    return (C111, C112, C121, C122, C221, C222)"
   ]
  },
  {
   "cell_type": "code",
   "execution_count": null,
   "metadata": {},
   "outputs": [],
   "source": [
    "def PT(X, X_1, X_2, u, v, T, initial_vec=None, step=0.1, initial_vec_length=None):\n",
    "    t = T[0]\n",
    "    t_0 = T[1]\n",
    "    t_f = T[2]\n",
    "\n",
    "    X_u = diff(X, X_1)\n",
    "    X_v = diff(X, X_2)\n",
    "    \n",
    "    E, F, G = compute_FFF(X_u, X_v)\n",
    "    \n",
    "    C111, C112, C121, C122, C221, C222 = compute_christoffel(X_1, X_2, u, v, E, F, G)\n",
    "    \n",
    "    a = var('a')\n",
    "    b = var('b')\n",
    "    \n",
    "    v_t = diff(v, t)\n",
    "    u_t = diff(u, t)\n",
    "    \n",
    "    diffeq_a = -(C111 * u_t + C121 * v_t) * a - (C121 * u_t + C221 * v_t) * b\n",
    "    diffeq_b = -(C112 * u_t + C122 * v_t) * a - (C122 * u_t + C222 * v_t) * b\n",
    "    \n",
    "    if initial_vec == None:\n",
    "        initial_vec = (u_t(t_0), v_t(t_0))\n",
    "\n",
    "    if initial_vec_length is not None:\n",
    "        initial_vec_on_surface = X_u(u(t_0), v(t_0)) * initial_vec[0] + X_v(u(t_0), v(t_0)) * initial_vec[1]\n",
    "        length = initial_vec_on_surface.norm()\n",
    "        initial_vec = ((initial_vec[0] / length) * initial_vec_length, (initial_vec[1] / length) * initial_vec_length)\n",
    "\n",
    "    P = desolve_system_rk4([diffeq_a, diffeq_b], [a, b], ics=[t_0,initial_vec[0],initial_vec[1]], ivar=t, end_points=t_f, step=step)\n",
    "    return P"
   ]
  },
  {
   "cell_type": "code",
   "execution_count": null,
   "metadata": {
    "scrolled": true
   },
   "outputs": [],
   "source": [
    "def sphere_PT(meridian=pi/2):\n",
    "    t = var('t')\n",
    "    phi,theta = var('φ', 'θ')\n",
    "\n",
    "    u(t) = t\n",
    "    v(t) = meridian\n",
    "\n",
    "    X(theta, phi) = (cos(theta) * cos(phi), sin(theta) * cos(phi), sin(phi))\n",
    "    X_theta = diff(X, theta)\n",
    "    X_phi = diff(X, phi)\n",
    "\n",
    "    P = PT(X, theta, phi, u, v, (t, 0, 2 * pi))\n",
    "\n",
    "    X_plot = parametric_plot3d(X(theta, phi), (theta, 0, 2 * pi), (phi, 0, 2 * pi), frame=False,axes=True,color='purple',opacity=1)\n",
    "    C_plot = parametric_plot3d(X(u(t), v(t)), (t, 0, 2 * pi), frame=False, Axes=False,color='blue',opacity=1)\n",
    "\n",
    "    num_points = len(P)\n",
    "    num_to_plot = len(P)\n",
    "    period = int(num_points / num_to_plot)\n",
    "    vectors = []\n",
    "    for ti,a,b in P[::period]:\n",
    "        vec = (scale(a, X_theta(u(ti), v(ti))) + scale(b, X_phi(u(ti), v(ti))))\n",
    "        vectors.append(arrow(X(u(ti), v(ti)), X(u(ti), v(ti)) + vec))\n",
    "\n",
    "    output = X_plot + sum(vectors) + C_plot\n",
    "    output.show()"
   ]
  },
  {
   "cell_type": "code",
   "execution_count": null,
   "metadata": {},
   "outputs": [],
   "source": [
    "sphere_PT(meridian=0)"
   ]
  },
  {
   "cell_type": "code",
   "execution_count": null,
   "metadata": {},
   "outputs": [],
   "source": [
    "sphere_PT(meridian=pi/5)"
   ]
  },
  {
   "cell_type": "code",
   "execution_count": null,
   "metadata": {},
   "outputs": [],
   "source": [
    "sphere_PT(meridian=pi/4)"
   ]
  },
  {
   "cell_type": "code",
   "execution_count": null,
   "metadata": {},
   "outputs": [],
   "source": [
    "sphere_PT(meridian=pi/3)"
   ]
  },
  {
   "cell_type": "code",
   "execution_count": null,
   "metadata": {},
   "outputs": [],
   "source": [
    "def class_logo_PT(angle=pi/2, meridian=pi/2, num_to_plot=10):\n",
    "    t = var('t')\n",
    "    phi,theta = var('φ', 'θ')\n",
    "    X(theta, phi) = (sin(phi) * cos(theta), sin(phi) * sin(theta), cos(phi))\n",
    "    X_theta = diff(X, theta)\n",
    "    X_phi = diff(X, phi)\n",
    "\n",
    "    epsilon = 0.01\n",
    "    step=0.01\n",
    "\n",
    "    u_1(t) = 0\n",
    "    v_1(t) = t\n",
    "\n",
    "    u_2(t) = t\n",
    "    v_2(t) = meridian\n",
    "\n",
    "    u_3(t) = angle\n",
    "    v_3(t) = t\n",
    "\n",
    "    print(\"PT 1\")\n",
    "    PT_1 = PT(X, theta, phi, u_1, v_1, (t, epsilon, meridian), (1, 0), step=step, initial_vec_length=0.5)\n",
    "    final_PT_1 = PT_1[-1]\n",
    "\n",
    "    print(\"PT 2\")\n",
    "    PT_2 = PT(X, theta, phi, u_2, v_2, (t, 0, angle), (final_PT_1[1], final_PT_1[2]), step)\n",
    "    final_PT_2 = PT_2[-1]\n",
    "\n",
    "    print(\"PT 3\")\n",
    "    PT_3 = PT(X, theta, phi, u_3, v_3, (t, meridian, 0), (final_PT_2[1], final_PT_2[2]), step)\n",
    "\n",
    "    X_plot = parametric_plot3d(X(theta, phi), (theta, 0, 2 * pi), (phi, 0, pi), frame=False,axes=False,color='purple',opacity=1)\n",
    "    vectors = []\n",
    "\n",
    "    count = -1\n",
    "    num_points = len(PT_1 + PT_2 + PT_3)\n",
    "\n",
    "    for ti,a,b in PT_1[::int(len(PT_1) / num_to_plot)]:\n",
    "        vec = (scale(a, X_theta(u_1(ti), v_1(ti))) + scale(b, X_phi(u_1(ti), v_1(ti))))\n",
    "        vectors.append(arrow(X(u_1(ti), v_1(ti)), X(u_1(ti), v_1(ti)) + vec))\n",
    "\n",
    "    for ti,a,b in PT_2[::int(len(PT_2) / num_to_plot)]:\n",
    "        vec = (scale(a, X_theta(u_2(ti), v_2(ti))) + scale(b, X_phi(u_2(ti), v_2(ti))))\n",
    "        vectors.append(arrow(X(u_2(ti), v_2(ti)), X(u_2(ti), v_2(ti)) + vec))\n",
    "\n",
    "    for ti,a,b in reversed(PT_3[::int(len(PT_3) / num_to_plot)]):\n",
    "        vec = (scale(a, X_theta(u_3(ti), v_3(ti))) + scale(b, X_phi(u_3(ti), v_3(ti))))\n",
    "        vectors.append(arrow(X(u_3(ti), v_3(ti)), X(u_3(ti), v_3(ti)) + vec))\n",
    "\n",
    "    C_1_plot = parametric_plot3d(X(u_1(t), v_1(t)), (t, 0, meridian), frame=False, axes=False, color='blue', opacity=1)\n",
    "    C_2_plot = parametric_plot3d(X(u_2(t), v_2(t)), (t, 0, angle), frame=False, axes=False, color='blue', opacity=1)\n",
    "    C_3_plot = parametric_plot3d(X(u_3(t), v_3(t)), (t, 0, meridian), frame=False, axes=False, color='blue', opacity=1)\n",
    "\n",
    "    show(X_plot + C_1_plot + C_2_plot + C_3_plot + sum(vectors))"
   ]
  },
  {
   "cell_type": "code",
   "execution_count": null,
   "metadata": {
    "scrolled": true
   },
   "outputs": [],
   "source": [
    "class_logo_PT(angle=pi/2, meridian=pi/2)"
   ]
  },
  {
   "cell_type": "code",
   "execution_count": null,
   "metadata": {},
   "outputs": [],
   "source": [
    "class_logo_PT(angle=pi/2, meridian=pi/3)"
   ]
  },
  {
   "cell_type": "code",
   "execution_count": null,
   "metadata": {},
   "outputs": [],
   "source": [
    "class_logo_PT(angle=pi/2, meridian=pi/4)"
   ]
  },
  {
   "cell_type": "code",
   "execution_count": null,
   "metadata": {},
   "outputs": [],
   "source": [
    "class_logo_PT(angle=pi/2, meridian=3*pi/2, num_to_plot=20)"
   ]
  },
  {
   "cell_type": "code",
   "execution_count": null,
   "metadata": {
    "scrolled": true
   },
   "outputs": [],
   "source": [
    "class_logo_PT(angle=5*pi/6, meridian=3*pi/4)"
   ]
  },
  {
   "cell_type": "code",
   "execution_count": null,
   "metadata": {},
   "outputs": [],
   "source": [
    "import numpy as np\n",
    "\n",
    "t = var('t')\n",
    "u = var('u')\n",
    "v = var('v')\n",
    "c = var('c')\n",
    "\n",
    "X(u, v, c) = (u, v, 1/c * log(cos(v)/cos(u)))\n",
    "def make_plot(c, urange=(-pi,pi), vrange=(-pi,pi)):\n",
    "    return parametric_plot3d(X(u, v, c), (u, urange[0], urange[1]), (v, vrange[0], vrange[1]), plot_points=[200, 200])"
   ]
  },
  {
   "cell_type": "code",
   "execution_count": null,
   "metadata": {},
   "outputs": [],
   "source": [
    "make_plot(1, (-pi, pi), (-pi, pi)).show()"
   ]
  },
  {
   "cell_type": "code",
   "execution_count": null,
   "metadata": {},
   "outputs": [],
   "source": [
    "P = make_plot(1, (-pi/2, pi/2), (-pi/2, pi/2))\n",
    "\n",
    "# If no condition is applied, plot looks bad because z value goes to infinity\n",
    "def condition(x, y, z):\n",
    "    return bool(-2 < z < 2)\n",
    "\n",
    "R = P.add_condition(condition)\n",
    "R.show()\n"
   ]
  },
  {
   "cell_type": "code",
   "execution_count": null,
   "metadata": {},
   "outputs": [],
   "source": [
    "make_plot(1, (-4*pi, 4*pi), (-4*pi, 4*pi))"
   ]
  },
  {
   "cell_type": "code",
   "execution_count": null,
   "metadata": {},
   "outputs": [],
   "source": [
    "P = make_plot(1, (-4*pi, 4*pi), (-4*pi, 4*pi))\n",
    "def condition(x, y, z):\n",
    "    return bool(-2 < z < 2)\n",
    "\n",
    "R = P.add_condition(condition)\n",
    "R.show()"
   ]
  },
  {
   "cell_type": "code",
   "execution_count": null,
   "metadata": {},
   "outputs": [],
   "source": [
    "make_plot(1, (-pi, pi), (-pi, pi)).show()"
   ]
  },
  {
   "cell_type": "code",
   "execution_count": null,
   "metadata": {},
   "outputs": [],
   "source": [
    "make_plot(2, (-pi, pi), (-pi, pi)).show()"
   ]
  },
  {
   "cell_type": "code",
   "execution_count": null,
   "metadata": {},
   "outputs": [],
   "source": [
    "make_plot(3, (-pi, pi), (-pi, pi)).show()"
   ]
  },
  {
   "cell_type": "code",
   "execution_count": null,
   "metadata": {},
   "outputs": [],
   "source": [
    "make_plot(4, (-pi, pi), (-pi, pi)).show()"
   ]
  },
  {
   "cell_type": "code",
   "execution_count": null,
   "metadata": {},
   "outputs": [],
   "source": [
    "make_plot(10, (-pi, pi), (-pi, pi)).show()"
   ]
  },
  {
   "cell_type": "code",
   "execution_count": null,
   "metadata": {},
   "outputs": [],
   "source": [
    "def transformation_plot(X, theta, urange=(-pi, pi), vrange=(-1, 1)):\n",
    "    return ParametrizedSurface3D(X(u, v, theta), (u, v)).plot(urange, vrange, opacity=0.9)\n",
    "\n",
    "\n",
    "def lines_of_curvature_plots(X, theta, urange=(-pi, pi, 20), vrange=(-1, 1, 20), color='black', thickness=2):\n",
    "    lines = []\n",
    "    \n",
    "    for ui in np.linspace(urange[0], urange[1], urange[2]):\n",
    "        v = var('v')\n",
    "        lines.append(parametric_plot3d(X(ui, v, theta), (v, vrange[0], vrange[1]), color=color, thickness=thickness))\n",
    "    for vi in np.linspace(vrange[0], vrange[1], vrange[2]):\n",
    "        u = var('u')\n",
    "        lines.append(parametric_plot3d(X(u, vi, theta), (u, urange[0], urange[1]), color=color, thickness=thickness))\n",
    "    return lines\n",
    "\n",
    "\n",
    "def get_total_plot(X, theta):\n",
    "    return transformation_plot(X, theta) \\\n",
    "        + parametric_plot3d(X(u, 0, theta), (u, -pi, pi), color='red', thickness=2) \\\n",
    "        + sum(lines_of_curvature_plots(X, theta))\n",
    "\n",
    "\n",
    "u = var('u')\n",
    "v = var('v')\n",
    "\n",
    "x(u, v, theta) = cos(theta) * sinh(v) * sin(u) + sin(theta) * cosh(v) * cos(u)\n",
    "y(u, v, theta) = -cos(theta) * sinh(v) * cos(u) + sin(theta) * cosh(v) * sin(u)\n",
    "z(u, v, theta) = u * cos(theta) + v * sin(theta)\n",
    "X(u, v, theta) = (x(u, v, theta), y(u, v, theta), z(u, v, theta))"
   ]
  },
  {
   "cell_type": "code",
   "execution_count": null,
   "metadata": {},
   "outputs": [],
   "source": [
    "get_total_plot(X, 0).show()"
   ]
  },
  {
   "cell_type": "code",
   "execution_count": null,
   "metadata": {},
   "outputs": [],
   "source": [
    "get_total_plot(X, pi/5).show()"
   ]
  },
  {
   "cell_type": "code",
   "execution_count": null,
   "metadata": {},
   "outputs": [],
   "source": [
    "get_total_plot(X, pi/4).show()"
   ]
  },
  {
   "cell_type": "code",
   "execution_count": null,
   "metadata": {
    "scrolled": true
   },
   "outputs": [],
   "source": [
    "get_total_plot(X, pi/3).show()"
   ]
  },
  {
   "cell_type": "code",
   "execution_count": null,
   "metadata": {},
   "outputs": [],
   "source": [
    "get_total_plot(X, pi/2).show()"
   ]
  },
  {
   "cell_type": "code",
   "execution_count": null,
   "metadata": {},
   "outputs": [],
   "source": [
    "enneper = surfaces.Enneper()\n",
    "enneper.plot(color='purple').show()\n",
    "\n",
    "def enneper_transport(c_1, c_2, trange, num_to_plot=30):\n",
    "    t = var('t')\n",
    "    t_0 = trange[0]\n",
    "    t_f = trange[1]\n",
    "\n",
    "    u = var('u')\n",
    "    v = var('v')\n",
    "    X(u, v) = (enneper.equation[0], enneper.equation[1], enneper.equation[2])\n",
    "    # X(u, v) = (-1/9*(u^2 - 3*v^2 - 3)*u, -1/9*(3*u^2 - v^2 + 3)*v, 1/3*u^2 - 1/3*v^2)\n",
    "    print(X)\n",
    "\n",
    "    X_u = diff(X, u)\n",
    "    X_v = diff(X, v)\n",
    "\n",
    "    P = PT(X, u, v, c_1, c_2, (t, t_0, t_f), step=0.01, initial_vec_length=1)\n",
    "\n",
    "    X_plot = parametric_plot3d(X(u, v), (u, -3, 3), (v, -3, 3), frame=False,axes=False,color='purple',opacity=0.5)\n",
    "    C_plot = parametric_plot3d(X(c_1(t), c_2(t)), (t, t_0, t_f), frame=False, Axes=False,color='blue',opacity=1,thickness=3)\n",
    "\n",
    "    num_points = len(P)\n",
    "    period = int(num_points / num_to_plot)\n",
    "    vectors = []\n",
    "    for ti,a,b in P[::period]:\n",
    "        vec = (scale(a, X_u(c_1(ti), c_2(ti))) + scale(b, X_v(c_1(ti), c_2(ti))))\n",
    "        vec = scale(0.5, vec)\n",
    "        vectors.append(arrow(X(c_1(ti), c_2(ti)), X(c_1(ti), c_2(ti)) + vec))\n",
    "\n",
    "    output = X_plot + sum(vectors) + C_plot\n",
    "    output.show()"
   ]
  },
  {
   "cell_type": "code",
   "execution_count": null,
   "metadata": {},
   "outputs": [],
   "source": [
    "c_1(t) = 1.5\n",
    "c_2(t) = t\n",
    "enneper_transport(c_1, c_2, (-3, 3))"
   ]
  },
  {
   "cell_type": "code",
   "execution_count": null,
   "metadata": {},
   "outputs": [],
   "source": [
    "c_1(t) = t^3 + 2\n",
    "c_2(t) = t^2\n",
    "enneper_transport(c_1, c_2, (-1, 1))"
   ]
  },
  {
   "cell_type": "code",
   "execution_count": null,
   "metadata": {},
   "outputs": [],
   "source": [
    "c_1(t) = t\n",
    "c_2(t) = t^2\n",
    "enneper_transport(c_1, c_2, (-sqrt(3), sqrt(3)))"
   ]
  },
  {
   "cell_type": "code",
   "execution_count": null,
   "metadata": {},
   "outputs": [],
   "source": [
    "c_1(t) = sin(t)\n",
    "c_2(t) = cos(t)\n",
    "enneper_transport(c_1, c_2, (0, 2*pi))"
   ]
  },
  {
   "cell_type": "code",
   "execution_count": null,
   "metadata": {},
   "outputs": [],
   "source": [
    "c_1(t) = 3*sin(t)\n",
    "c_2(t) = 3*cos(t)\n",
    "enneper_transport(c_1, c_2, (0, 2*pi), num_to_plot=120)"
   ]
  },
  {
   "cell_type": "code",
   "execution_count": null,
   "metadata": {
    "scrolled": true
   },
   "outputs": [],
   "source": [
    "c_1(t) = sin(t)\n",
    "c_2(t) = t\n",
    "enneper_transport(c_1, c_2, (-3, 3))"
   ]
  },
  {
   "cell_type": "code",
   "execution_count": null,
   "metadata": {},
   "outputs": [],
   "source": [
    "x(z, x_0, y_0) = y_0 * cosh((z - x_0)/y_0)\n",
    "X(theta, z, x_0, y_0) = (cos(theta) * x(z, x_0, y_0), sin(theta) * x(z, x_0, y_0), z)"
   ]
  },
  {
   "cell_type": "code",
   "execution_count": null,
   "metadata": {},
   "outputs": [],
   "source": [
    "def get_surface(X, x_0, y_0, max_r):\n",
    "    def condition(x, y, z):\n",
    "        return bool(sqrt(x^2 + y^2) <= max_r)\n",
    "\n",
    "    max_z = solve([sqrt(X(0, z, x_0, y_0)[0]^2 + X(0, z, x_0, y_0)[1]^2) == max_r], z)\n",
    "    print(max_z)\n",
    "\n",
    "    P = parametric_plot3d(X(theta, z, x_0, y_0), (theta, 0, 2*pi), (z, -z.subs(max_z), z.subs(max_z)))\n",
    "    R = P.add_condition(condition)\n",
    "\n",
    "    return R"
   ]
  },
  {
   "cell_type": "code",
   "execution_count": null,
   "metadata": {},
   "outputs": [],
   "source": [
    "max_r = 8\n",
    "y_0 = 1\n",
    "get_surface(X, 0, y_0, max_r)"
   ]
  },
  {
   "cell_type": "code",
   "execution_count": null,
   "metadata": {},
   "outputs": [],
   "source": [
    "y_0 = 1.5\n",
    "get_surface(X, 0, y_0, max_r)"
   ]
  },
  {
   "cell_type": "code",
   "execution_count": null,
   "metadata": {},
   "outputs": [],
   "source": [
    "y_0 = 2\n",
    "get_surface(X, 0, y_0, max_r)"
   ]
  },
  {
   "cell_type": "code",
   "execution_count": null,
   "metadata": {},
   "outputs": [],
   "source": [
    "y_0 = 2.5\n",
    "get_surface(X, 0, y_0, max_r)"
   ]
  },
  {
   "cell_type": "code",
   "execution_count": null,
   "metadata": {},
   "outputs": [],
   "source": [
    "y_0 = 3\n",
    "get_surface(X, 0, y_0, max_r)"
   ]
  },
  {
   "cell_type": "code",
   "execution_count": null,
   "metadata": {},
   "outputs": [],
   "source": []
  }
 ],
 "metadata": {
  "kernelspec": {
   "display_name": "SageMath 9.3",
   "language": "sage",
   "name": "sagemath"
  },
  "language_info": {
   "codemirror_mode": {
    "name": "ipython",
    "version": 3
   },
   "file_extension": ".py",
   "mimetype": "text/x-python",
   "name": "python",
   "nbconvert_exporter": "python",
   "pygments_lexer": "ipython3",
   "version": "3.7.10"
  }
 },
 "nbformat": 4,
 "nbformat_minor": 4
}
